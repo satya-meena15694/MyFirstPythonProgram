{
  "cells": [
    {
      "cell_type": "markdown",
      "source": [
        "these are list examples:"
      ],
      "metadata": {
        "id": "4rLaL0AsPSrh"
      }
    },
    {
      "cell_type": "code",
      "execution_count": null,
      "metadata": {
        "colab": {
          "base_uri": "https://localhost:8080/"
        },
        "id": "Tsbtg4lyNVNJ",
        "outputId": "946c0082-999b-4814-d332-f101e660b7d5"
      },
      "outputs": [
        {
          "output_type": "execute_result",
          "data": {
            "text/plain": [
              "[1, 2, 3, 4, 'ram', 'satya', 'hello']"
            ]
          },
          "metadata": {},
          "execution_count": 48
        }
      ],
      "source": [
        "# this is list example:\n",
        "list_var = [1,2,3,4,\"ram\",43.65,'hello']\n",
        "\n",
        "# replace the value\n",
        "list_var[5]='satya'\n",
        "\n",
        "list_var"
      ]
    },
    {
      "cell_type": "code",
      "source": [
        "# This is example of nested list\n",
        "list_value = [1,2,3,4,[5,6,7,['a','b','c','d']]]\n",
        "\n",
        "print(list_value)\n",
        "list_value [4][2]\n",
        "list_value [4][3][2]\n"
      ],
      "metadata": {
        "colab": {
          "base_uri": "https://localhost:8080/",
          "height": 53
        },
        "id": "9U2gcfv4OWt9",
        "outputId": "053cc6fe-2626-4e5a-8a9e-8d3a4400ea04"
      },
      "execution_count": null,
      "outputs": [
        {
          "output_type": "stream",
          "name": "stdout",
          "text": [
            "[1, 2, 3, 4, [5, 6, 7, ['a', 'b', 'c', 'd']]]\n"
          ]
        },
        {
          "output_type": "execute_result",
          "data": {
            "text/plain": [
              "'c'"
            ],
            "application/vnd.google.colaboratory.intrinsic+json": {
              "type": "string"
            }
          },
          "metadata": {},
          "execution_count": 56
        }
      ]
    },
    {
      "cell_type": "markdown",
      "source": [
        "this is set examples:"
      ],
      "metadata": {
        "id": "28tqRPmrPLYJ"
      }
    },
    {
      "cell_type": "code",
      "source": [
        "# this is set example:\n",
        "set_value = {\"satya\",123,\"hello\", 32.43,\"true\",\"satya\"}\n",
        "\n",
        "\n",
        "print(set_value)\n",
        "\n",
        "# this method is add the value\n",
        "set_value.add(\"by\")\n",
        "\n",
        "#this method remove the value, if value is persent:\n",
        "set_value.discard(\"hello\")\n"
      ],
      "metadata": {
        "colab": {
          "base_uri": "https://localhost:8080/"
        },
        "id": "dto-2n0IHdeE",
        "outputId": "5df8c3e4-dbdc-409b-bbbb-fdfbe07b10d5"
      },
      "execution_count": 3,
      "outputs": [
        {
          "output_type": "stream",
          "name": "stdout",
          "text": [
            "{32.43, 'hello', 'true', 'satya', 123}\n"
          ]
        }
      ]
    },
    {
      "cell_type": "markdown",
      "source": [
        "These examples of the tuple function:"
      ],
      "metadata": {
        "id": "a__g0FqrI4Lb"
      }
    },
    {
      "cell_type": "code",
      "source": [
        "# this is tuple examples:\n",
        "Tuple_value = (\"hello\",\"hi\",\"rahul\",\"yogesh\",'hi',)\n",
        "\n",
        "print(Tuple_value)\n",
        "\n",
        "# this method finding that value is persent or not.\n",
        "\"rahul\" in Tuple_value\n",
        "\n",
        "# this method returns at which index the value is.\n",
        "Tuple_value.index(\"rahul\")\n",
        "\n",
        "\n",
        "\n",
        "\n"
      ],
      "metadata": {
        "colab": {
          "base_uri": "https://localhost:8080/"
        },
        "id": "0eSGjrsMI5hs",
        "outputId": "b4394912-7a59-4229-bcf6-d7b34cbeec8c"
      },
      "execution_count": 1,
      "outputs": [
        {
          "output_type": "stream",
          "name": "stdout",
          "text": [
            "('hello', 'hi', 'rahul', 'yogesh', 'hi')\n"
          ]
        },
        {
          "output_type": "execute_result",
          "data": {
            "text/plain": [
              "2"
            ]
          },
          "metadata": {},
          "execution_count": 1
        }
      ]
    },
    {
      "cell_type": "markdown",
      "source": [
        "These are dict examples:"
      ],
      "metadata": {
        "id": "ffJmIIGLCBuI"
      }
    },
    {
      "cell_type": "code",
      "source": [
        "dict_var = {'name':'satya','subject':['math','english','scince']}\n",
        "\n",
        "print(dict_var)\n",
        "\n",
        "print(\"subject name is\")\n",
        "dict_var['subject']\n"
      ],
      "metadata": {
        "colab": {
          "base_uri": "https://localhost:8080/"
        },
        "id": "85_rONppGfzk",
        "outputId": "a871f0da-8a60-479d-8557-4c89c51ec81e"
      },
      "execution_count": 16,
      "outputs": [
        {
          "output_type": "stream",
          "name": "stdout",
          "text": [
            "{'name': 'satya', 'subject': ['math', 'english', 'scince']}\n",
            "subject name is\n"
          ]
        },
        {
          "output_type": "execute_result",
          "data": {
            "text/plain": [
              "['math', 'english', 'scince']"
            ]
          },
          "metadata": {},
          "execution_count": 16
        }
      ]
    }
  ],
  "metadata": {
    "colab": {
      "provenance": []
    },
    "kernelspec": {
      "display_name": "Python 3",
      "name": "python3"
    },
    "language_info": {
      "name": "python"
    }
  },
  "nbformat": 4,
  "nbformat_minor": 0
}