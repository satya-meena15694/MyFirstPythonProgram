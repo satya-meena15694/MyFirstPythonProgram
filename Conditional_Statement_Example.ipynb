{
  "nbformat": 4,
  "nbformat_minor": 0,
  "metadata": {
    "colab": {
      "provenance": []
    },
    "kernelspec": {
      "name": "python3",
      "display_name": "Python 3"
    },
    "language_info": {
      "name": "python"
    }
  },
  "cells": [
    {
      "cell_type": "markdown",
      "source": [
        "**Conditional Statements:**\n",
        "1. if\n",
        "2.else\n",
        "3.elif"
      ],
      "metadata": {
        "id": "8phVqizH8Dfi"
      }
    },
    {
      "cell_type": "code",
      "source": [
        "# example of if or else:\n",
        "age = int(input(\"enter your age: \"))\n",
        "\n",
        "if age>= 18:\n",
        "  print(\"your are valid for vating\")\n",
        "  print(\"please enter your vate\")\n",
        "\n",
        "else:\n",
        "  print(\"you are not valid for vate\")"
      ],
      "metadata": {
        "colab": {
          "base_uri": "https://localhost:8080/"
        },
        "id": "0lDe7mKW8jKZ",
        "outputId": "c6a7708d-e12c-42bd-9553-997e8e4fd350"
      },
      "execution_count": null,
      "outputs": [
        {
          "output_type": "stream",
          "name": "stdout",
          "text": [
            "enter your age: 22\n",
            "your are valid for vating\n",
            "please enter your vate\n"
          ]
        }
      ]
    },
    {
      "cell_type": "code",
      "source": [
        "# example of if, else or elif:\n",
        "\n",
        "price = int(input(\"enter your amount: \"))\n",
        "colour = input(\"please enter your colour: \")\n",
        "available_colour = \"black\"\n",
        "\n",
        "if price >= 1000:\n",
        "  if colour == available_colour:\n",
        "    print(\"you should be purchase puma shose.\")\n",
        "    print(\"availble this colour\")\n",
        "  else:\n",
        "    print(\"this colour is out of stock\")\n",
        "\n",
        "elif price >= 800:\n",
        "  available_colour = \"red\"\n",
        "  if colour == available_colour:\n",
        "    print(\"you should be purchase adidas shose\")\n",
        "  else:\n",
        "    print(\"this colour not available\")\n",
        "\n",
        "elif price >= 500:\n",
        "   available_colour = \"white\"\n",
        "   if colour == available_colour:\n",
        "    print(\"you should be purchase red tape shose\")\n",
        "   else:\n",
        "    print(\"this colour not in stock\")\n",
        "\n",
        "else:\n",
        "  print(\"you don`t have enough money for shopping\")"
      ],
      "metadata": {
        "colab": {
          "base_uri": "https://localhost:8080/"
        },
        "id": "G9xxa1ID_pmY",
        "outputId": "475a0468-4396-4aa2-d6d9-a44403654525"
      },
      "execution_count": 20,
      "outputs": [
        {
          "output_type": "stream",
          "name": "stdout",
          "text": [
            "enter your amount: 2000\n",
            "please enter your colour: black\n",
            "you should be purchase puma shose.\n",
            "availble this colour\n"
          ]
        }
      ]
    }
  ]
}