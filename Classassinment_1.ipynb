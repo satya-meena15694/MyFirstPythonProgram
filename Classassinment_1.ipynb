{
  "nbformat": 4,
  "nbformat_minor": 0,
  "metadata": {
    "colab": {
      "provenance": []
    },
    "kernelspec": {
      "name": "python3",
      "display_name": "Python 3"
    },
    "language_info": {
      "name": "python"
    }
  },
  "cells": [
    {
      "cell_type": "code",
      "execution_count": null,
      "metadata": {
        "colab": {
          "base_uri": "https://localhost:8080/"
        },
        "id": "IVP_9junkVgL",
        "outputId": "30a13f68-97dc-4845-82cb-b7fabef90142"
      },
      "outputs": [
        {
          "output_type": "stream",
          "name": "stdout",
          "text": [
            "maytas si eman ym\n"
          ]
        }
      ],
      "source": [
        "# Reverse String program\n",
        "\n",
        "str_var = \"my name is satyam\"\n",
        "str_var1 = str_var[::-1]\n",
        "\n",
        "print(str_var1)"
      ]
    },
    {
      "cell_type": "code",
      "source": [
        "# if i check String is palindrome or not!\n",
        "\n",
        "str_var = \"naman\"\n",
        "str_var1 = str_var[::-1]\n",
        "\n",
        "print(str_var==str_var1 )\n",
        "\n",
        "print(\"is palindrome string\")"
      ],
      "metadata": {
        "colab": {
          "base_uri": "https://localhost:8080/"
        },
        "id": "pVMoh7fllXSo",
        "outputId": "a662e215-f104-4f1d-a0ab-daf9a618d435"
      },
      "execution_count": null,
      "outputs": [
        {
          "output_type": "stream",
          "name": "stdout",
          "text": [
            "True\n",
            "is palindrome string\n"
          ]
        }
      ]
    },
    {
      "cell_type": "code",
      "source": [
        "# conver to uppercase string\n",
        "\n",
        "str_var = \"i am satya\"\n",
        "\n",
        "print(str_var.upper())"
      ],
      "metadata": {
        "colab": {
          "base_uri": "https://localhost:8080/"
        },
        "id": "bT7K1O5CJz9Y",
        "outputId": "c39e50ea-6915-4018-9b0d-d34e32b942c8"
      },
      "execution_count": null,
      "outputs": [
        {
          "output_type": "stream",
          "name": "stdout",
          "text": [
            "I AM SATYA\n"
          ]
        }
      ]
    },
    {
      "cell_type": "code",
      "source": [
        "# convert to lowercase string\n",
        "\n",
        "str_var = \"HELLO USER\"\n",
        "\n",
        "print(str_var.lower())"
      ],
      "metadata": {
        "colab": {
          "base_uri": "https://localhost:8080/"
        },
        "id": "TdqovOldKQtQ",
        "outputId": "f17c60ce-3c16-44ae-8fb9-e4b6fac9e549"
      },
      "execution_count": null,
      "outputs": [
        {
          "output_type": "stream",
          "name": "stdout",
          "text": [
            "hello user\n"
          ]
        }
      ]
    },
    {
      "cell_type": "code",
      "source": [
        "# count vowels in a string:\n",
        "\n",
        "def count_vowels(str_var):\n",
        "\n",
        "  vowels = 'aeiouAEIOU'\n",
        "  count = 0\n",
        "  for char in str_var:\n",
        "    if char in vowels:\n",
        "      count += 1\n",
        "  return count\n",
        "\n",
        "\n",
        "str_var = input(\"please enter your string here: \")\n",
        "vowel_count = count_vowels(str_var)\n",
        "print(f\"The number of vowels in '{str_var}' is {vowel_count}\")\n"
      ],
      "metadata": {
        "colab": {
          "base_uri": "https://localhost:8080/"
        },
        "id": "kMpZWBvPhotN",
        "outputId": "587428e4-eef1-422d-8b5d-feaa2469464c"
      },
      "execution_count": 16,
      "outputs": [
        {
          "output_type": "stream",
          "name": "stdout",
          "text": [
            "please enter your string here: yogesh jaiman\n",
            "The number of vowels in 'yogesh jaiman' is 5\n"
          ]
        }
      ]
    }
  ]
}
