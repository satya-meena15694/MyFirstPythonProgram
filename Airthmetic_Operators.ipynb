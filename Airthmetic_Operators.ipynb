{
  "nbformat": 4,
  "nbformat_minor": 0,
  "metadata": {
    "colab": {
      "provenance": []
    },
    "kernelspec": {
      "name": "python3",
      "display_name": "Python 3"
    },
    "language_info": {
      "name": "python"
    }
  },
  "cells": [
    {
      "cell_type": "markdown",
      "source": [
        "# * In Python, operators are special symbols that perform operations on values or variable.\n",
        "# * Different types of operators in Python:\n",
        "\n",
        "1. **Airthmetic Operator**:\n",
        "\n"
      ],
      "metadata": {
        "id": "3laiyy9nXhvc"
      }
    },
    {
      "cell_type": "code",
      "source": [
        "# addition operator:\n",
        "\n",
        "var1 = int(input(\"enter the first number: \"))\n",
        "var2 = int(input(\"enter the second number: \"))\n",
        "\n",
        "result = var1 + var2\n",
        "\n",
        "print(f\"add {var1} with {var2} the result is: {result}\")"
      ],
      "metadata": {
        "colab": {
          "base_uri": "https://localhost:8080/"
        },
        "id": "AcgqTAolZD2S",
        "outputId": "1623bc70-301e-4d68-dec8-e0a6b246a331"
      },
      "execution_count": 4,
      "outputs": [
        {
          "output_type": "stream",
          "name": "stdout",
          "text": [
            "enter the first number: 87\n",
            "enter the second number: 52\n",
            "add 87 with 52 the result is: 139\n"
          ]
        }
      ]
    },
    {
      "cell_type": "code",
      "source": [
        "# subtraction operator:\n",
        "\n",
        "var3 = int(input(\"enter the first number: \"))\n",
        "var4 = int(input(\"enter the second number: \"))\n",
        "\n",
        "result = var3 - var4\n",
        "\n",
        "print(f\"subtract {var3} by {var4} and result is: {result}\")"
      ],
      "metadata": {
        "colab": {
          "base_uri": "https://localhost:8080/"
        },
        "id": "wHiptt_rbVsK",
        "outputId": "b7a74c8c-9833-4114-8617-82b714a73540"
      },
      "execution_count": 5,
      "outputs": [
        {
          "output_type": "stream",
          "name": "stdout",
          "text": [
            "enter the first number: 54\n",
            "enter the second number: 8\n",
            "subtract 54 by 8 and result is: 46\n"
          ]
        }
      ]
    },
    {
      "cell_type": "code",
      "source": [
        "# multification operator:\n",
        "\n",
        "var5 = int(input(\"enter the first number: \"))\n",
        "var6 = int(input(\"enter the second number: \"))\n",
        "\n",
        "result = var5 * var6\n",
        "\n",
        "print(f\"multiply {var5} by {var6} and result is: {result}\")"
      ],
      "metadata": {
        "colab": {
          "base_uri": "https://localhost:8080/"
        },
        "id": "PvlqnSihcOmN",
        "outputId": "f9b33cc8-6653-40c5-b8cd-fd1a494b45f8"
      },
      "execution_count": 8,
      "outputs": [
        {
          "output_type": "stream",
          "name": "stdout",
          "text": [
            "enter the first number: 88\n",
            "enter the second number: 22\n",
            "multiply 88 by 22 and result is: 1936\n"
          ]
        }
      ]
    },
    {
      "cell_type": "code",
      "source": [
        "# dividetion operator:\n",
        "\n",
        "var7 = int(input(\"enter the first number: \"))\n",
        "var8 = int(input(\"enter the second number: \"))\n",
        "\n",
        "result = var7 / var8\n",
        "\n",
        "print(f\"{var7} divided by {var8} and result is: {result}\")"
      ],
      "metadata": {
        "colab": {
          "base_uri": "https://localhost:8080/"
        },
        "id": "lKlEnuXvdyhy",
        "outputId": "b68b1d97-dc22-429b-adb0-abf13adb5db8"
      },
      "execution_count": 12,
      "outputs": [
        {
          "output_type": "stream",
          "name": "stdout",
          "text": [
            "enter the first number: 75\n",
            "enter the second number: 3\n",
            "75 divided by 3 and result is: 25.0\n"
          ]
        }
      ]
    },
    {
      "cell_type": "code",
      "source": [
        "# reminder operator:\n",
        "\n",
        "var9 = int(input(\"enter the first number: \"))\n",
        "var10 = int(input(\"enter the second number: \"))\n",
        "\n",
        "result = var9 % var10\n",
        "\n",
        "print(f\"{var9} divided by {var10} and reminder is: {result}\")"
      ],
      "metadata": {
        "colab": {
          "base_uri": "https://localhost:8080/"
        },
        "id": "fImcD_5Aev7p",
        "outputId": "bcd78fc4-4cb3-4f7c-80bc-b43cb8da979e"
      },
      "execution_count": 18,
      "outputs": [
        {
          "output_type": "stream",
          "name": "stdout",
          "text": [
            "enter the first number: 28\n",
            "enter the second number: 5\n",
            "28 divided by 5 and reminder is: 3\n"
          ]
        }
      ]
    }
  ]
}