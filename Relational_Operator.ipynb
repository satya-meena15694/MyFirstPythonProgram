{
  "nbformat": 4,
  "nbformat_minor": 0,
  "metadata": {
    "colab": {
      "provenance": []
    },
    "kernelspec": {
      "name": "python3",
      "display_name": "Python 3"
    },
    "language_info": {
      "name": "python"
    }
  },
  "cells": [
    {
      "cell_type": "code",
      "execution_count": null,
      "metadata": {
        "id": "dipvLVGrhbuS"
      },
      "outputs": [],
      "source": []
    },
    {
      "cell_type": "markdown",
      "source": [
        "Relational Operator:\n",
        "\n",
        "1.**Greater than (>):** checks if the left operand is greater than the right operand.\n",
        "\n"
      ],
      "metadata": {
        "id": "xheuAcE3hc6c"
      }
    },
    {
      "cell_type": "code",
      "source": [
        "# example of greater than:\n",
        "\n",
        "age = int(input(\"enter your age: \"))\n",
        "\n",
        "print(age>18)\n",
        "\n",
        "# if your age under 18, than output is false, or if your age 18+, the output is true."
      ],
      "metadata": {
        "colab": {
          "base_uri": "https://localhost:8080/"
        },
        "id": "mmsBxvbUhoFf",
        "outputId": "7097bb4c-ff15-49fe-f09d-43cad14e74e3"
      },
      "execution_count": null,
      "outputs": [
        {
          "output_type": "stream",
          "name": "stdout",
          "text": [
            "enter your age34\n",
            "True\n"
          ]
        }
      ]
    },
    {
      "cell_type": "markdown",
      "source": [
        "1. **Less than (<):** checks if the left operand is less than the right operand."
      ],
      "metadata": {
        "id": "4f2bTsCnkA0T"
      }
    },
    {
      "cell_type": "code",
      "source": [
        "# example of less than:\n",
        "\n",
        "a = int(input(\"enter your first number: \"))\n",
        "b = int(input(\"enter your second number: \"))\n",
        "\n",
        "print(a<b)\n",
        "\n"
      ],
      "metadata": {
        "colab": {
          "base_uri": "https://localhost:8080/"
        },
        "id": "AmTggUlLkbaq",
        "outputId": "d7442025-226b-4148-8004-6101c8692525"
      },
      "execution_count": null,
      "outputs": [
        {
          "output_type": "stream",
          "name": "stdout",
          "text": [
            "enter your first number: 3\n",
            "enter your second number: 6\n",
            "True\n"
          ]
        }
      ]
    },
    {
      "cell_type": "markdown",
      "source": [
        "**Greater than or equal to (>=):** checks if the left operand is greater than or equal to the right operand."
      ],
      "metadata": {
        "id": "EC8yazBolxC6"
      }
    },
    {
      "cell_type": "code",
      "source": [
        "point  = 80\n",
        "passed_exam = 70\n",
        "\n",
        "print(point>=passed_exam)# (This will evaluate to True because points is greater than or equal to 70)"
      ],
      "metadata": {
        "colab": {
          "base_uri": "https://localhost:8080/"
        },
        "id": "oTNGaJMGpaZx",
        "outputId": "ee546a1c-4110-4bad-ee5d-e2d5e5179cf3"
      },
      "execution_count": 1,
      "outputs": [
        {
          "output_type": "stream",
          "name": "stdout",
          "text": [
            "True\n"
          ]
        }
      ]
    },
    {
      "cell_type": "markdown",
      "source": [
        "**Less than or equal to (<=)**: Checks if the left operand is less than or equal to the right operand."
      ],
      "metadata": {
        "id": "LmO7iK2srK_1"
      }
    },
    {
      "cell_type": "code",
      "source": [
        "# examle\n",
        "age = int(input(\"enter your age: \"))\n",
        "voting_age = 18\n",
        "\n",
        "\n",
        "print(voting_age <= age)\n",
        "\n",
        "\n"
      ],
      "metadata": {
        "colab": {
          "base_uri": "https://localhost:8080/"
        },
        "id": "n80XW3Y2rbbF",
        "outputId": "909de8c6-02b5-4bc8-8f19-92bba91dd9d1"
      },
      "execution_count": 7,
      "outputs": [
        {
          "output_type": "stream",
          "name": "stdout",
          "text": [
            "enter your age: 18\n",
            "True\n"
          ]
        }
      ]
    },
    {
      "cell_type": "markdown",
      "source": [
        "**Not equal to (!=)**: Checks if two values are not equal.\n"
      ],
      "metadata": {
        "id": "jTkkBZXgtcbs"
      }
    },
    {
      "cell_type": "code",
      "source": [
        "#example\n",
        "user_choice = input(\"Enter your choice (A, B, or C): \")\n",
        "\n",
        "if user_choice != \"A\" and user_choice != \"B\" and user_choice != \"C\":\n",
        "    print(\"Invalid choice. Please enter A, B, or C.\")\n",
        "else:\n",
        "    # Process valid user choice (e.g., if user_choice == \"A\": ...)\n",
        "    pass\n",
        "\n"
      ],
      "metadata": {
        "colab": {
          "base_uri": "https://localhost:8080/"
        },
        "id": "DhsuxITBto11",
        "outputId": "80597bd5-9a44-4e29-a804-73fbe4e12c8f"
      },
      "execution_count": 19,
      "outputs": [
        {
          "name": "stdout",
          "output_type": "stream",
          "text": [
            "Enter your choice (A, B, or C): A\n"
          ]
        }
      ]
    },
    {
      "cell_type": "markdown",
      "source": [
        "**Equal to (==)**: Checks if two values are equal.\n"
      ],
      "metadata": {
        "id": "X8XxG6xdvsl8"
      }
    },
    {
      "cell_type": "code",
      "source": [
        "# example\n",
        "x = 5\n",
        "y = 10\n",
        "z = x == y\n",
        "\n",
        "print(z)"
      ],
      "metadata": {
        "colab": {
          "base_uri": "https://localhost:8080/"
        },
        "id": "xFWecYzAvu1_",
        "outputId": "171976f4-ff61-4b9c-ed16-36ba7bffec8a"
      },
      "execution_count": 23,
      "outputs": [
        {
          "output_type": "stream",
          "name": "stdout",
          "text": [
            "False\n"
          ]
        }
      ]
    }
  ]
}